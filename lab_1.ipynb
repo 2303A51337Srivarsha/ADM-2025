{
  "nbformat": 4,
  "nbformat_minor": 0,
  "metadata": {
    "colab": {
      "provenance": [],
      "authorship_tag": "ABX9TyPWd6DINc8/t1ZqqMaGMF65",
      "include_colab_link": true
    },
    "kernelspec": {
      "name": "python3",
      "display_name": "Python 3"
    },
    "language_info": {
      "name": "python"
    }
  },
  "cells": [
    {
      "cell_type": "markdown",
      "metadata": {
        "id": "view-in-github",
        "colab_type": "text"
      },
      "source": [
        "<a href=\"https://colab.research.google.com/github/2303A51337Srivarsha/ADM-2025/blob/main/lab_1.ipynb\" target=\"_parent\"><img src=\"https://colab.research.google.com/assets/colab-badge.svg\" alt=\"Open In Colab\"/></a>"
      ]
    },
    {
      "cell_type": "code",
      "execution_count": 1,
      "metadata": {
        "colab": {
          "base_uri": "https://localhost:8080/"
        },
        "id": "MWQrW5CMsjfw",
        "outputId": "005f783e-116b-4e7d-da69-5a410db78604"
      },
      "outputs": [
        {
          "output_type": "stream",
          "name": "stdout",
          "text": [
            "enter a num:5\n",
            "Factorial of 5 is 120\n"
          ]
        }
      ],
      "source": [
        "def factorial(n):\n",
        "    if n == 0 or n == 1:\n",
        "        return 1\n",
        "    else:\n",
        "        return n * factorial(n-1)\n",
        "n = int(input(\"enter a num:\"))\n",
        "print(f\"Factorial of {n} is {factorial(n)}\")\n"
      ]
    }
  ]
}