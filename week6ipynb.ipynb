{
  "nbformat": 4,
  "nbformat_minor": 0,
  "metadata": {
    "colab": {
      "provenance": [],
      "authorship_tag": "ABX9TyObQrez6wv+zgQIbCAzkEcw",
      "include_colab_link": true
    },
    "kernelspec": {
      "name": "python3",
      "display_name": "Python 3"
    },
    "language_info": {
      "name": "python"
    }
  },
  "cells": [
    {
      "cell_type": "markdown",
      "metadata": {
        "id": "view-in-github",
        "colab_type": "text"
      },
      "source": [
        "<a href=\"https://colab.research.google.com/github/2303A51337Srivarsha/ADM-2025/blob/main/week6ipynb.ipynb\" target=\"_parent\"><img src=\"https://colab.research.google.com/assets/colab-badge.svg\" alt=\"Open In Colab\"/></a>"
      ]
    },
    {
      "cell_type": "code",
      "execution_count": 1,
      "metadata": {
        "id": "A4_HwepTJvo9"
      },
      "outputs": [],
      "source": [
        "import pandas as pd\n",
        "from sklearn.preprocessing import LabelEncoder, OneHotEncoder"
      ]
    },
    {
      "cell_type": "code",
      "source": [
        "data = {'Category': ['A', 'B', 'C', 'A', 'B']}\n",
        "df = pd.DataFrame(data)"
      ],
      "metadata": {
        "id": "2OVPlzpXJ-_g"
      },
      "execution_count": 2,
      "outputs": []
    },
    {
      "cell_type": "code",
      "source": [
        "label_encoder = LabelEncoder()\n",
        "df['Label_Encoded'] = label_encoder.fit_transform(df['Category'])"
      ],
      "metadata": {
        "id": "qiLlRiiGKCIB"
      },
      "execution_count": 3,
      "outputs": []
    },
    {
      "cell_type": "code",
      "source": [
        "one_hot_encoded = pd.get_dummies(df['Category'], prefix='Category')\n",
        "df = pd.concat([df, one_hot_encoded], axis=1)"
      ],
      "metadata": {
        "id": "BjQmZojaKHv4"
      },
      "execution_count": 4,
      "outputs": []
    },
    {
      "cell_type": "code",
      "source": [
        "print(df)"
      ],
      "metadata": {
        "colab": {
          "base_uri": "https://localhost:8080/"
        },
        "id": "ByGxfToMKKf0",
        "outputId": "c8d56ffe-d142-4fed-fa33-1a84c4d511ed"
      },
      "execution_count": 5,
      "outputs": [
        {
          "output_type": "stream",
          "name": "stdout",
          "text": [
            "  Category  Label_Encoded  Category_A  Category_B  Category_C\n",
            "0        A              0        True       False       False\n",
            "1        B              1       False        True       False\n",
            "2        C              2       False       False        True\n",
            "3        A              0        True       False       False\n",
            "4        B              1       False        True       False\n"
          ]
        }
      ]
    },
    {
      "cell_type": "code",
      "source": [
        "from datetime import datetime"
      ],
      "metadata": {
        "id": "fbCJNrb2KQKq"
      },
      "execution_count": 6,
      "outputs": []
    },
    {
      "cell_type": "code",
      "source": [
        "data = {'Name': ['Alice', 'Bob'], 'Date_of_Birth': ['1990-05-14', '1985-08-23']}\n",
        "df = pd.DataFrame(data)"
      ],
      "metadata": {
        "id": "o5rWW5EeKTUN"
      },
      "execution_count": 11,
      "outputs": []
    },
    {
      "cell_type": "code",
      "source": [
        "df['Date_of_Birth'] = pd.to_datetime(df['Date_of_Birth'])"
      ],
      "metadata": {
        "id": "IvobhrCWKxGb"
      },
      "execution_count": 12,
      "outputs": []
    },
    {
      "cell_type": "code",
      "source": [
        "current_year = datetime.now().year\n",
        "df['Age'] = current_year - df['Date_of_Birth'].dt.year\n",
        "print(df)"
      ],
      "metadata": {
        "colab": {
          "base_uri": "https://localhost:8080/"
        },
        "id": "TUZEFQuYKzw9",
        "outputId": "791aa223-0890-4a2f-9da3-073dfba0ae85"
      },
      "execution_count": 13,
      "outputs": [
        {
          "output_type": "stream",
          "name": "stdout",
          "text": [
            "    Name Date_of_Birth  Age\n",
            "0  Alice    1990-05-14   35\n",
            "1    Bob    1985-08-23   40\n"
          ]
        }
      ]
    },
    {
      "cell_type": "code",
      "source": [
        "data = {'Category': ['A', 'A', 'B', 'B', 'C'],\n",
        "'Value': [10, 20, 10, 30, 40]}\n",
        "df = pd.DataFrame(data)"
      ],
      "metadata": {
        "id": "5rPP4dDxK3uL"
      },
      "execution_count": 14,
      "outputs": []
    },
    {
      "cell_type": "code",
      "source": [
        "grouped = df.groupby('Category').agg({'Value': ['sum', 'mean']})\n",
        "print(\"Grouped Data:\\n\", grouped)"
      ],
      "metadata": {
        "colab": {
          "base_uri": "https://localhost:8080/"
        },
        "id": "mEKRMTMFK7UT",
        "outputId": "ded135f1-74d7-4c31-936a-645dfb4c416f"
      },
      "execution_count": 15,
      "outputs": [
        {
          "output_type": "stream",
          "name": "stdout",
          "text": [
            "Grouped Data:\n",
            "          Value      \n",
            "           sum  mean\n",
            "Category            \n",
            "A           30  15.0\n",
            "B           40  20.0\n",
            "C           40  40.0\n"
          ]
        }
      ]
    },
    {
      "cell_type": "code",
      "source": [
        "pivot = df.pivot_table(index='Category', values='Value', aggfunc=['sum',\n",
        "'mean'])\n",
        "print(\"\\nPivot Table:\\n\", pivot)"
      ],
      "metadata": {
        "colab": {
          "base_uri": "https://localhost:8080/"
        },
        "id": "LOg5xUecK-o8",
        "outputId": "291a471a-b645-4275-83d7-27471f3ef28d"
      },
      "execution_count": 16,
      "outputs": [
        {
          "output_type": "stream",
          "name": "stdout",
          "text": [
            "\n",
            "Pivot Table:\n",
            "            sum  mean\n",
            "         Value Value\n",
            "Category            \n",
            "A           30  15.0\n",
            "B           40  20.0\n",
            "C           40  40.0\n"
          ]
        }
      ]
    }
  ]
}